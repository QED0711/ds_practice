{
 "cells": [
  {
   "cell_type": "code",
   "execution_count": 8,
   "metadata": {},
   "outputs": [],
   "source": [
    "import requests"
   ]
  },
  {
   "cell_type": "code",
   "execution_count": 11,
   "metadata": {},
   "outputs": [],
   "source": [
    "\n",
    "\n",
    "def format_params(params):\n",
    "    formatted = \"\"\n",
    "    for param, value in params.items():\n",
    "        if value != \"\":\n",
    "            formatted += f\"{param}={value}&\"\n",
    "        else:\n",
    "            formatted += f\"{param}&\"\n",
    "    return formatted\n",
    "\n",
    "def format_props(props):\n",
    "    return \"prop=\" + \"|\".join(props)\n",
    "        \n",
    "\n",
    "def format_url(props, params):\n",
    "    base = \"https://en.wikipedia.org/w/api.php?\"\n",
    "    prop_str = format_props(props)\n",
    "    param_str = format_params(params)\n",
    "    \n",
    "    return base + prop_str + \"&\" + param_str"
   ]
  },
  {
   "cell_type": "code",
   "execution_count": 141,
   "metadata": {
    "scrolled": false
   },
   "outputs": [
    {
     "name": "stdout",
     "output_type": "stream",
     "text": [
      "200\n"
     ]
    },
    {
     "data": {
      "text/plain": [
       "{'pageid': 1363880,\n",
       " 'ns': 0,\n",
       " 'title': 'Random forest',\n",
       " 'extract': 'Random forests or random decision forests are an ensemble learning method for classification, regression and other tasks that operates by constructing a multitude of decision trees at training time and outputting the class that is the mode of the classes (classification) or mean prediction (regression) of the individual trees. Random decision forests correct for decision trees\\' habit of overfitting to their training set.The first algorithm for random decision forests was created by Tin Kam Ho using the random subspace method, which, in Ho\\'s formulation, is a way to implement the \"stochastic discrimination\" approach to classification proposed by Eugene Kleinberg.An extension of the algorithm was developed by Leo Breiman and Adele Cutler, who registered \"Random Forests\" as a trademark (as of 2019, owned by Minitab, Inc.). The extension combines Breiman\\'s \"bagging\" idea and random selection of features, introduced first by Ho and later independently by Amit and Geman in order to construct a collection of decision trees with controlled variance.',\n",
       " 'linkshere': [{'pageid': 18568, 'ns': 0, 'title': 'List of algorithms'},\n",
       "  {'pageid': 20926, 'ns': 0, 'title': 'Supervised learning'},\n",
       "  {'pageid': 21523, 'ns': 0, 'title': 'Artificial neural network'},\n",
       "  {'pageid': 30531, 'ns': 0, 'title': 'Toxicology'},\n",
       "  {'pageid': 32167, 'ns': 0, 'title': 'Ubiquitin'},\n",
       "  {'pageid': 40283, 'ns': 0, 'title': 'Melting point'},\n",
       "  {'pageid': 42253, 'ns': 0, 'title': 'Data mining'},\n",
       "  {'pageid': 65309, 'ns': 0, 'title': 'Support-vector machine'},\n",
       "  {'pageid': 66294, 'ns': 0, 'title': 'Reinforcement learning'},\n",
       "  {'pageid': 76340, 'ns': 0, 'title': 'Principal component analysis'}],\n",
       " 'links': [{'ns': 0,\n",
       "   'title': 'Annals of Mathematics and Artificial Intelligence'},\n",
       "  {'ns': 0, 'title': 'Annals of Statistics'},\n",
       "  {'ns': 0, 'title': 'Anomaly detection'},\n",
       "  {'ns': 0, 'title': 'ArXiv'},\n",
       "  {'ns': 0, 'title': 'Artificial neural network'},\n",
       "  {'ns': 0, 'title': 'Artificial neural networks'},\n",
       "  {'ns': 0, 'title': 'Association rule learning'},\n",
       "  {'ns': 0, 'title': 'Autoencoder'},\n",
       "  {'ns': 0, 'title': 'Automated machine learning'},\n",
       "  {'ns': 0, 'title': 'BIRCH'}],\n",
       " 'categories': [{'ns': 14,\n",
       "   'title': 'Category:All articles containing potentially dated statements'},\n",
       "  {'ns': 14, 'title': 'Category:All articles to be expanded'},\n",
       "  {'ns': 14, 'title': 'Category:All articles with dead external links'},\n",
       "  {'ns': 14,\n",
       "   'title': 'Category:Articles containing potentially dated statements from 2019'},\n",
       "  {'ns': 14, 'title': 'Category:Articles to be expanded from February 2019'},\n",
       "  {'ns': 14,\n",
       "   'title': 'Category:Articles with dead external links from May 2017'},\n",
       "  {'ns': 14,\n",
       "   'title': 'Category:Articles with permanently dead external links'},\n",
       "  {'ns': 14, 'title': 'Category:Articles with short description'},\n",
       "  {'ns': 14, 'title': 'Category:CS1 maint: Uses authors parameter'},\n",
       "  {'ns': 14, 'title': 'Category:Classification algorithms'},\n",
       "  {'ns': 14, 'title': 'Category:Computational statistics'},\n",
       "  {'ns': 14, 'title': 'Category:Decision theory'},\n",
       "  {'ns': 14, 'title': 'Category:Decision trees'},\n",
       "  {'ns': 14, 'title': 'Category:Ensemble learning'},\n",
       "  {'ns': 14, 'title': 'Category:Machine learning'}]}"
      ]
     },
     "execution_count": 141,
     "metadata": {},
     "output_type": "execute_result"
    }
   ],
   "source": [
    "props = [\n",
    "    \"extracts\", \n",
    "    \"linkshere\", \n",
    "    \n",
    "#     \"info\", \n",
    "#     \"iwlinks\",\n",
    "    \"links\",\n",
    "#     \"redirects\",\n",
    "    \"categories\", \n",
    "]\n",
    "\n",
    "params = {\n",
    "    \"format\":\"json\",\n",
    "    \"action\": \"query\",\n",
    "    \"lhlimit\": 10,\n",
    "    \"lhprop\": \"pageid|title\",\n",
    "#     \"lhnamespace\": 0,\n",
    "    \n",
    "    \"redirects\": 0,\n",
    "#     \"titles\": \"Random forest\",\n",
    "    \"pageids\": 1363880,\n",
    "    \"inprop\": \"url\",\n",
    "    \"iwprop\": \"url\",\n",
    "    \"plnamespace\": 0,\n",
    "    \"pllimit\": 10,\n",
    "    \n",
    "    \"cllimit\": 500,\n",
    "    \n",
    "    \"exintro\": True,\n",
    "    \"explaintext\": \"\",\n",
    "    \"rdprop\": \"pageid|title\",\n",
    "}\n",
    "\n",
    "resp = requests.get(format_url(props, params))\n",
    "print(resp.status_code)\n",
    "resp.json()['query']['pages'][str(params['pageids'])]"
   ]
  },
  {
   "cell_type": "code",
   "execution_count": 138,
   "metadata": {},
   "outputs": [],
   "source": [
    "url = f\"\"\"https://en.wikipedia.org/w/api.php?format=json&action=query&titles={titles}&prop={\"|\".join(props)}&{format_params(params)}exintro&explaintext\"\"\"\n"
   ]
  }
 ],
 "metadata": {
  "kernelspec": {
   "display_name": "Python 3",
   "language": "python",
   "name": "python3"
  },
  "language_info": {
   "codemirror_mode": {
    "name": "ipython",
    "version": 3
   },
   "file_extension": ".py",
   "mimetype": "text/x-python",
   "name": "python",
   "nbconvert_exporter": "python",
   "pygments_lexer": "ipython3",
   "version": "3.7.3"
  }
 },
 "nbformat": 4,
 "nbformat_minor": 2
}
