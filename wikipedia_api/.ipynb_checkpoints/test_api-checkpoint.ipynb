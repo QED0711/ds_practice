{
 "cells": [
  {
   "cell_type": "code",
   "execution_count": 1,
   "metadata": {},
   "outputs": [],
   "source": [
    "import requests"
   ]
  },
  {
   "cell_type": "code",
   "execution_count": 2,
   "metadata": {},
   "outputs": [],
   "source": [
    "\n",
    "\n",
    "def format_params(params):\n",
    "    formatted = \"\"\n",
    "    for param, value in params.items():\n",
    "        if value != \"\":\n",
    "            formatted += f\"{param}={value}&\"\n",
    "        else:\n",
    "            formatted += f\"{param}&\"\n",
    "    return formatted\n",
    "\n",
    "def format_props(props):\n",
    "    return \"prop=\" + \"|\".join(props)\n",
    "        \n",
    "\n",
    "def format_url(props, params):\n",
    "    base = \"https://en.wikipedia.org/w/api.php?\"\n",
    "    prop_str = format_props(props)\n",
    "    param_str = format_params(params)\n",
    "    \n",
    "    return base + prop_str + \"&\" + param_str"
   ]
  },
  {
   "cell_type": "code",
   "execution_count": 3,
   "metadata": {
    "scrolled": false
   },
   "outputs": [
    {
     "name": "stdout",
     "output_type": "stream",
     "text": [
      "200\n"
     ]
    },
    {
     "data": {
      "text/plain": [
       "{'pageid': 1363880,\n",
       " 'ns': 0,\n",
       " 'title': 'Random forest',\n",
       " 'extract': 'Random forests or random decision forests are an ensemble learning method for classification, regression and other tasks that operates by constructing a multitude of decision trees at training time and outputting the class that is the mode of the classes (classification) or mean prediction (regression) of the individual trees. Random decision forests correct for decision trees\\' habit of overfitting to their training set.The first algorithm for random decision forests was created by Tin Kam Ho using the random subspace method, which, in Ho\\'s formulation, is a way to implement the \"stochastic discrimination\" approach to classification proposed by Eugene Kleinberg.An extension of the algorithm was developed by Leo Breiman and Adele Cutler, who registered \"Random Forests\" as a trademark (as of 2019, owned by Minitab, Inc.). The extension combines Breiman\\'s \"bagging\" idea and random selection of features, introduced first by Ho and later independently by Amit and Geman in order to construct a collection of decision trees with controlled variance.',\n",
       " 'linkshere': [{'pageid': 18568, 'ns': 0, 'title': 'List of algorithms'},\n",
       "  {'pageid': 20926, 'ns': 0, 'title': 'Supervised learning'},\n",
       "  {'pageid': 21523, 'ns': 0, 'title': 'Artificial neural network'},\n",
       "  {'pageid': 30531, 'ns': 0, 'title': 'Toxicology'},\n",
       "  {'pageid': 32167, 'ns': 0, 'title': 'Ubiquitin'},\n",
       "  {'pageid': 40283, 'ns': 0, 'title': 'Melting point'},\n",
       "  {'pageid': 42253, 'ns': 0, 'title': 'Data mining'},\n",
       "  {'pageid': 65309, 'ns': 0, 'title': 'Support-vector machine'},\n",
       "  {'pageid': 66294, 'ns': 0, 'title': 'Reinforcement learning'},\n",
       "  {'pageid': 76340, 'ns': 0, 'title': 'Principal component analysis'}],\n",
       " 'links': [{'ns': 0,\n",
       "   'title': 'Annals of Mathematics and Artificial Intelligence'},\n",
       "  {'ns': 0, 'title': 'Annals of Statistics'},\n",
       "  {'ns': 0, 'title': 'Anomaly detection'},\n",
       "  {'ns': 0, 'title': 'ArXiv'},\n",
       "  {'ns': 0, 'title': 'Artificial neural network'},\n",
       "  {'ns': 0, 'title': 'Artificial neural networks'},\n",
       "  {'ns': 0, 'title': 'Association rule learning'},\n",
       "  {'ns': 0, 'title': 'Autoencoder'},\n",
       "  {'ns': 0, 'title': 'Automated machine learning'},\n",
       "  {'ns': 0, 'title': 'BIRCH'}],\n",
       " 'categories': [{'ns': 14,\n",
       "   'title': 'Category:All articles containing potentially dated statements'},\n",
       "  {'ns': 14, 'title': 'Category:All articles to be expanded'},\n",
       "  {'ns': 14, 'title': 'Category:All articles with dead external links'},\n",
       "  {'ns': 14,\n",
       "   'title': 'Category:Articles containing potentially dated statements from 2019'},\n",
       "  {'ns': 14, 'title': 'Category:Articles to be expanded from February 2019'},\n",
       "  {'ns': 14,\n",
       "   'title': 'Category:Articles with dead external links from May 2017'},\n",
       "  {'ns': 14,\n",
       "   'title': 'Category:Articles with permanently dead external links'},\n",
       "  {'ns': 14, 'title': 'Category:Articles with short description'},\n",
       "  {'ns': 14, 'title': 'Category:CS1 maint: Uses authors parameter'},\n",
       "  {'ns': 14, 'title': 'Category:Classification algorithms'},\n",
       "  {'ns': 14, 'title': 'Category:Computational statistics'},\n",
       "  {'ns': 14, 'title': 'Category:Decision theory'},\n",
       "  {'ns': 14, 'title': 'Category:Decision trees'},\n",
       "  {'ns': 14, 'title': 'Category:Ensemble learning'},\n",
       "  {'ns': 14, 'title': 'Category:Machine learning'}]}"
      ]
     },
     "execution_count": 3,
     "metadata": {},
     "output_type": "execute_result"
    }
   ],
   "source": [
    "props = [\n",
    "    \"extracts\", \n",
    "    \"linkshere\", \n",
    "    \n",
    "#     \"info\", \n",
    "#     \"iwlinks\",\n",
    "    \"links\",\n",
    "#     \"redirects\",\n",
    "    \"categories\", \n",
    "]\n",
    "\n",
    "params = {\n",
    "    \"format\":\"json\",\n",
    "    \"action\": \"query\",\n",
    "    \"lhlimit\": 10,\n",
    "    \"lhprop\": \"pageid|title\",\n",
    "#     \"lhnamespace\": 0,\n",
    "    \n",
    "    \"redirects\": 0,\n",
    "#     \"titles\": \"Random forest\",\n",
    "    \"pageids\": 1363880,\n",
    "    \"inprop\": \"url\",\n",
    "    \"iwprop\": \"url\",\n",
    "    \"plnamespace\": 0,\n",
    "    \"pllimit\": 10,\n",
    "    \n",
    "    \"cllimit\": 500,\n",
    "    \n",
    "    \"exintro\": True,\n",
    "    \"explaintext\": \"\",\n",
    "    \"rdprop\": \"pageid|title\",\n",
    "}\n",
    "\n",
    "resp = requests.get(format_url(props, params))\n",
    "print(resp.status_code)\n",
    "resp.json()['query']['pages'][str(params['pageids'])]"
   ]
  },
  {
   "cell_type": "code",
   "execution_count": null,
   "metadata": {},
   "outputs": [],
   "source": [
    "from bs4 import BeautifulSoup\n",
    "\n",
    "resp = requests.get(\"https://en.wikipedia.org/wiki/GitHub\")\n",
    "soup = BeautifulSoup(resp.content)"
   ]
  },
  {
   "cell_type": "code",
   "execution_count": 53,
   "metadata": {},
   "outputs": [],
   "source": [
    "def find_see_also(soup):\n",
    "    return soup.find(attrs={\"id\":\"See_also\"})\n",
    "\n",
    "\n",
    "def find_links(soup):\n",
    "    if soup.name == \"ul\":\n",
    "        return soup.find_all(\"li\")\n",
    "    \n",
    "    if soup.name == \"div\" and \" \".join(soup[\"class\"]) == \"div-col columns column-width\":\n",
    "        return soup.find_all(\"li\")\n",
    "    \n",
    "    return find_links(soup.find_next_sibling())\n",
    "\n",
    "\n",
    "def process_links(links):\n",
    "    hrefs = []\n",
    "    for link in links:\n",
    "        hrefs.append(\"https://en.wikipedia.org\" + link.find('a').get(\"href\"))\n",
    "    return tuple(hrefs)\n",
    "    \n",
    "    \n",
    "def get_close_links(url):\n",
    "    resp = requests.get(url)\n",
    "    soup = BeautifulSoup(resp.content)\n",
    "    \n",
    "    see_also = find_see_also(soup)\n",
    "    \n",
    "    if see_also:\n",
    "        links = find_links(see_also.find_parent())\n",
    "    else: \n",
    "        return None\n",
    "    \n",
    "    return process_links(links)\n",
    "    \n",
    "        \n",
    "start = get_close_links(\"https://en.wikipedia.org/wiki/Decision_tree_learning\")"
   ]
  },
  {
   "cell_type": "code",
   "execution_count": 54,
   "metadata": {},
   "outputs": [
    {
     "name": "stdout",
     "output_type": "stream",
     "text": [
      "('https://en.wikipedia.org/wiki/Decision-tree_pruning', 'https://en.wikipedia.org/wiki/Binary_decision_diagram', 'https://en.wikipedia.org/wiki/CHAID', 'https://en.wikipedia.org/wiki/Predictive_analytics#Classification_and_regression_trees_.28CART.29', 'https://en.wikipedia.org/wiki/ID3_algorithm', 'https://en.wikipedia.org/wiki/C4.5_algorithm', 'https://en.wikipedia.org/wiki/Decision_stump', 'https://en.wikipedia.org/wiki/Decision_list', 'https://en.wikipedia.org/wiki/Incremental_decision_tree', 'https://en.wikipedia.org/wiki/Alternating_decision_tree', 'https://en.wikipedia.org/wiki/Structured_data_analysis_(statistics)', 'https://en.wikipedia.org/wiki/Logistic_model_tree', 'https://en.wikipedia.org/wiki/Hierarchical_clustering') \n",
      "\n",
      "\n",
      "\n",
      "\n",
      "\n",
      "\n",
      "0 ('https://en.wikipedia.org/wiki/Alpha-beta_pruning', 'https://en.wikipedia.org/wiki/Artificial_neural_network', 'https://en.wikipedia.org/wiki/Null-move_heuristic') \n",
      "\n",
      "\n",
      "\n",
      "1 ('https://en.wikipedia.org/wiki/Boolean_satisfiability_problem', 'https://en.wikipedia.org/wiki/L/poly', 'https://en.wikipedia.org/wiki/Model_checking', 'https://en.wikipedia.org/wiki/Radix_tree', \"https://en.wikipedia.org/wiki/NC_(complexity)#Barrington's_theorem\", 'https://en.wikipedia.org/wiki/Hardware_acceleration', 'https://en.wikipedia.org/wiki/Karnaugh_map') \n",
      "\n",
      "\n",
      "\n",
      "2 ('https://en.wikipedia.org/wiki/Chi-squared_distribution', 'https://en.wikipedia.org/wiki/Latent_class_model', 'https://en.wikipedia.org/wiki/Structural_equation_modeling', 'https://en.wikipedia.org/wiki/Market_segment', 'https://en.wikipedia.org/wiki/Decision_tree_learning', 'https://en.wikipedia.org/wiki/Multiple_comparisons') \n",
      "\n",
      "\n",
      "\n",
      "3 ('https://en.wikipedia.org/wiki/Actuarial_science', 'https://en.wikipedia.org/wiki/Algorithmic_trading', 'https://en.wikipedia.org/wiki/Computational_sociology', 'https://en.wikipedia.org/wiki/Criminal_Reduction_Utilising_Statistical_History', 'https://en.wikipedia.org/wiki/Disease_surveillance', 'https://en.wikipedia.org/wiki/Learning_analytics', 'https://en.wikipedia.org/wiki/Odds_algorithm', 'https://en.wikipedia.org/wiki/Pattern_recognition', 'https://en.wikipedia.org/wiki/Predictive_inference', 'https://en.wikipedia.org/wiki/Predictive_policing', 'https://en.wikipedia.org/wiki/Social_media_analytics') \n",
      "\n",
      "\n",
      "\n",
      "4 ('https://en.wikipedia.org/wiki/Classification_and_regression_tree', 'https://en.wikipedia.org/wiki/C4.5_algorithm', 'https://en.wikipedia.org/wiki/Decision_tree_learning', 'https://en.wikipedia.org/wiki/Decision_tree_model') \n",
      "\n",
      "\n",
      "\n",
      "5 ('https://en.wikipedia.org/wiki/ID3_algorithm', 'https://en.wikipedia.orghttp://timesleuth-rule.sourceforge.net') \n",
      "\n",
      "\n",
      "\n",
      "6 None \n",
      "\n",
      "\n",
      "\n",
      "7 None \n",
      "\n",
      "\n",
      "\n",
      "8 ('https://en.wikipedia.org/wiki/Concept_drift', 'https://en.wikipedia.org/wiki/Decision_tree_learning', 'https://en.wikipedia.org/wiki/Machine_Learning', 'https://en.wikipedia.org/wiki/Online_machine_learning') \n",
      "\n",
      "\n",
      "\n",
      "9 None \n",
      "\n",
      "\n",
      "\n",
      "10 None \n",
      "\n",
      "\n",
      "\n",
      "11 ('https://en.wikipedia.org/wiki/C4.5_algorithm',) \n",
      "\n",
      "\n",
      "\n",
      "12 ('https://en.wikipedia.org/wiki/Binary_space_partitioning', 'https://en.wikipedia.org/wiki/Bounding_volume_hierarchy', 'https://en.wikipedia.org/wiki/Brown_clustering', 'https://en.wikipedia.org/wiki/Cladistics', 'https://en.wikipedia.org/wiki/Cluster_analysis', 'https://en.wikipedia.org/wiki/Computational_phylogenetics', 'https://en.wikipedia.org/wiki/CURE_data_clustering_algorithm', 'https://en.wikipedia.org/wiki/Dasgupta%27s_objective', 'https://en.wikipedia.org/wiki/Dendrogram', 'https://en.wikipedia.org/wiki/Determining_the_number_of_clusters_in_a_data_set', 'https://en.wikipedia.org/wiki/Hierarchical_clustering_of_networks', 'https://en.wikipedia.org/wiki/Locality-sensitive_hashing', 'https://en.wikipedia.org/wiki/Nearest_neighbor_search', 'https://en.wikipedia.org/wiki/Nearest-neighbor_chain_algorithm', 'https://en.wikipedia.org/wiki/Numerical_taxonomy', 'https://en.wikipedia.org/wiki/OPTICS_algorithm', 'https://en.wikipedia.org/wiki/Statistical_distance') \n",
      "\n",
      "\n",
      "\n"
     ]
    }
   ],
   "source": [
    "print(start, \"\\n\\n\\n\\n\\n\\n\")\n",
    "\n",
    "for i, url in enumerate(start):\n",
    "    print(i, get_close_links(url), \"\\n\\n\\n\")"
   ]
  },
  {
   "cell_type": "code",
   "execution_count": 33,
   "metadata": {},
   "outputs": [
    {
     "data": {
      "text/plain": [
       "'noprint portal plainlist tright'"
      ]
     },
     "execution_count": 33,
     "metadata": {},
     "output_type": "execute_result"
    }
   ],
   "source": [
    "\" \".join(soup.find(attrs={\"id\":\"See_also\"}).find_parent().find_next_sibling()[\"class\"])"
   ]
  },
  {
   "cell_type": "code",
   "execution_count": null,
   "metadata": {},
   "outputs": [],
   "source": []
  }
 ],
 "metadata": {
  "kernelspec": {
   "display_name": "Python 3",
   "language": "python",
   "name": "python3"
  },
  "language_info": {
   "codemirror_mode": {
    "name": "ipython",
    "version": 3
   },
   "file_extension": ".py",
   "mimetype": "text/x-python",
   "name": "python",
   "nbconvert_exporter": "python",
   "pygments_lexer": "ipython3",
   "version": "3.7.3"
  }
 },
 "nbformat": 4,
 "nbformat_minor": 2
}
