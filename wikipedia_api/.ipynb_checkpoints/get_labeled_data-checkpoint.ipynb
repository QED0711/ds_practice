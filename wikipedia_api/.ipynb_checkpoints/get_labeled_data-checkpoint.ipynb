{
 "cells": [
  {
   "cell_type": "code",
   "execution_count": 1,
   "metadata": {},
   "outputs": [],
   "source": [
    "%load_ext autoreload\n",
    "%autoreload 1\n",
    "\n",
    "import pandas as pd\n",
    "import requests\n",
    "import time\n",
    "import signal\n",
    "\n",
    "from WikiScrapper import WikiScrapper\n",
    "from get_related_links import *\n",
    "\n",
    "%aimport WikiScrapper\n",
    "%aimport get_related_links"
   ]
  },
  {
   "cell_type": "code",
   "execution_count": 2,
   "metadata": {},
   "outputs": [],
   "source": [
    "titles_df = pd.read_csv(\"top_wikipedia_articles.csv\")"
   ]
  },
  {
   "cell_type": "code",
   "execution_count": 3,
   "metadata": {},
   "outputs": [
    {
     "name": "stdout",
     "output_type": "stream",
     "text": [
      "URL: https://en.wikipedia.org/wiki/Germany\n",
      "RESPONSE: 200\n"
     ]
    },
    {
     "data": {
      "text/plain": [
       "{'title': 'Germany',\n",
       " 'url': 'https://en.wikipedia.org/wiki/Germany',\n",
       " 'links': ('https://en.wikipedia.org/wiki/Index_of_Germany-related_articles',\n",
       "  'https://en.wikipedia.org/wiki/Outline_of_Germany',\n",
       "  'https://en.wikipedia.org/wiki/Book:Germany')}"
      ]
     },
     "execution_count": 3,
     "metadata": {},
     "output_type": "execute_result"
    }
   ],
   "source": [
    "get_related_links.get_related_links(\"https://en.wikipedia.org/wiki/Germany\")"
   ]
  },
  {
   "cell_type": "code",
   "execution_count": 4,
   "metadata": {},
   "outputs": [],
   "source": [
    "def signal_timeout_handler():\n",
    "    print(\"Timeout\")\n",
    "    raise OSError(\"Took Too Long\")\n",
    "    \n",
    "signal.signal(signal.SIGALRM, signal_timeout_handler);"
   ]
  },
  {
   "cell_type": "code",
   "execution_count": null,
   "metadata": {
    "scrolled": false
   },
   "outputs": [
    {
     "name": "stdout",
     "output_type": "stream",
     "text": [
      "Anthropology\n",
      "URL: https://en.wikipedia.org/wiki/Anthropology\n",
      "RESPONSE: 200\n",
      "BAD URL: https://en.wikipedia.orghttp://www.germananthropology.com/\n",
      "BAD URL: https://en.wikipedia.orghttp://www.aaanet.org/\n",
      "BAD URL: https://en.wikipedia.orghttp://www.easaonline.org/\n",
      "BAD URL: https://en.wikipedia.orghttp://www.physanth.org/\n",
      "BAD URL: https://en.wikipedia.orghttp://www.aas.asn.au/\n",
      "BAD URL: https://en.wikipedia.orghttp://www.aibr.org/\n",
      "BAD URL: https://en.wikipedia.orghttp://hraf.yale.edu\n",
      "BAD URL: https://en.wikipedia.orghttp://www.practicinganthropology.org/\n",
      "BAD URL: https://en.wikipedia.orghttp://radicalanthropologygroup.org/about\n",
      "BAD URL: https://en.wikipedia.orghttp://www.therai.org.uk/\n",
      "BAD URL: https://en.wikipedia.orghttp://www.sfaa.net/\n",
      "BAD URL: https://en.wikipedia.orghttp://anthro.amnh.org/\n",
      "BAD URL: https://en.wikipedia.orghttp://anthropology.si.edu/\n",
      "BAD URL: https://en.wikipedia.orghttps://aio.therai.org.uk/aio.php\n"
     ]
    }
   ],
   "source": [
    "for i in range(titles_df.shape[0]):\n",
    "    current = titles_df.iloc[i]\n",
    "    \n",
    "    if current.visited == 0:\n",
    "        \n",
    "        title = current.title\n",
    "        print(title)\n",
    "        \n",
    "        scrapper = WikiScrapper.WikiScrapper()\n",
    "        try:\n",
    "#             signal.alarm(5)\n",
    "            scrapper.traverse_from(\"https://en.wikipedia.org/wiki/{}\".format(title), max_depth=3, max_nodes=None)\n",
    "            scrapper.to_mlab()\n",
    "#             signal.alarm(0)\n",
    "        except:\n",
    "            print(title, \"skipped\")\n",
    "            continue\n",
    "            \n",
    "        titles_df.iloc[i,1] = 1\n",
    "        titles_df.to_csv(\"top_wikipedia_articles.csv\", index=False)\n",
    "        \n",
    "#         print(title)\n",
    "    \n",
    "        time.sleep(2)"
   ]
  },
  {
   "cell_type": "code",
   "execution_count": null,
   "metadata": {},
   "outputs": [],
   "source": [
    "scrapper = WikiScrapper.WikiScrapper()\n",
    "scrapper.traverse_from(\"https://en.wikipedia.org/wiki/List_of_diagnostic_classification_and_rating_scales_used_in_psychiatry\", max_depth=3, max_nodes=None);"
   ]
  },
  {
   "cell_type": "code",
   "execution_count": null,
   "metadata": {},
   "outputs": [],
   "source": [
    "scrapper.data\n"
   ]
  },
  {
   "cell_type": "code",
   "execution_count": null,
   "metadata": {},
   "outputs": [],
   "source": [
    "for i in range(10):\n",
    "    print(i, end=\"\\r\", flush=True)\n",
    "    time.sleep(1)"
   ]
  }
 ],
 "metadata": {
  "kernelspec": {
   "display_name": "Python 3",
   "language": "python",
   "name": "python3"
  },
  "language_info": {
   "codemirror_mode": {
    "name": "ipython",
    "version": 3
   },
   "file_extension": ".py",
   "mimetype": "text/x-python",
   "name": "python",
   "nbconvert_exporter": "python",
   "pygments_lexer": "ipython3",
   "version": "3.7.3"
  }
 },
 "nbformat": 4,
 "nbformat_minor": 2
}
