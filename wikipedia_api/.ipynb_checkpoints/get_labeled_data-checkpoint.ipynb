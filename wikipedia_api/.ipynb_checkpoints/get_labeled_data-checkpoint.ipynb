{
 "cells": [
  {
   "cell_type": "code",
   "execution_count": null,
   "metadata": {},
   "outputs": [],
   "source": [
    "%load_ext autoreload\n",
    "%autoreload 1\n",
    "\n",
    "import pandas as pd\n",
    "import requests\n",
    "import time\n",
    "\n",
    "from WikiScrapper import WikiScrapper\n",
    "\n",
    "%aimport WikiScrapper"
   ]
  },
  {
   "cell_type": "code",
   "execution_count": null,
   "metadata": {},
   "outputs": [],
   "source": [
    "titles_df = pd.read_csv(\"top_wikipedia_articles.csv\")"
   ]
  },
  {
   "cell_type": "code",
   "execution_count": null,
   "metadata": {},
   "outputs": [],
   "source": [
    "for i in range(titles_df.shape[0]):\n",
    "    current = titles_df.iloc[i]\n",
    "    if current.visited == 0:\n",
    "        title = current.title\n",
    "        \n",
    "        scrapper = WikiScrapper.WikiScrapper()\n",
    "        try:\n",
    "            scrapper.traverse_from(\"https://en.wikipedia.org/wiki/{}\".format(title), max_depth=3, max_nodes=None)\n",
    "            scrapper.to_mlab()\n",
    "        except:\n",
    "            None\n",
    "            \n",
    "        titles_df.iloc[i,1] = 1\n",
    "        titles_df.to_csv(\"top_wikipedia_articles.csv\", index=False)\n",
    "        \n",
    "#         print(title)\n",
    "    \n",
    "        time.sleep(2)"
   ]
  },
  {
   "cell_type": "code",
   "execution_count": null,
   "metadata": {},
   "outputs": [],
   "source": [
    "scrapper = WikiScrapper.WikiScrapper()\n",
    "scrapper.traverse_from(\"https://en.wikipedia.org/wiki/List_of_diagnostic_classification_and_rating_scales_used_in_psychiatry\", max_depth=3, max_nodes=None);"
   ]
  },
  {
   "cell_type": "code",
   "execution_count": null,
   "metadata": {},
   "outputs": [],
   "source": [
    "scrapper.data\n"
   ]
  },
  {
   "cell_type": "code",
   "execution_count": null,
   "metadata": {},
   "outputs": [],
   "source": [
    "for i in range(10):\n",
    "    print(i, end=\"\\r\", flush=True)\n",
    "    time.sleep(1)"
   ]
  }
 ],
 "metadata": {
  "kernelspec": {
   "display_name": "Python 3",
   "language": "python",
   "name": "python3"
  },
  "language_info": {
   "codemirror_mode": {
    "name": "ipython",
    "version": 3
   },
   "file_extension": ".py",
   "mimetype": "text/x-python",
   "name": "python",
   "nbconvert_exporter": "python",
   "pygments_lexer": "ipython3",
   "version": "3.7.3"
  }
 },
 "nbformat": 4,
 "nbformat_minor": 2
}
