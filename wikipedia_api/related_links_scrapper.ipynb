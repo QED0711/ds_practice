{
 "cells": [
  {
   "cell_type": "code",
   "execution_count": null,
   "metadata": {},
   "outputs": [],
   "source": [
    "import pdb\n",
    "import requests\n",
    "from bs4 import BeautifulSoup"
   ]
  },
  {
   "cell_type": "code",
   "execution_count": null,
   "metadata": {},
   "outputs": [],
   "source": [
    "def find_see_also(soup):\n",
    "    return soup.find(attrs={\"id\":\"See_also\"})\n",
    "\n",
    "\n",
    "def find_links(soup):\n",
    "    if soup.name == \"ul\":\n",
    "        return soup.find_all(\"li\")\n",
    "    \n",
    "    if soup.name == \"div\" and \" \".join(soup[\"class\"]) == \"div-col columns column-width\":\n",
    "        return soup.find_all(\"li\")\n",
    "    \n",
    "    return find_links(soup.find_next_sibling())\n",
    "\n",
    "\n",
    "def process_links(links):\n",
    "    hrefs = []\n",
    "    for link in links:\n",
    "        hrefs.append(\"https://en.wikipedia.org\" + link.find('a').get(\"href\"))\n",
    "    return tuple(hrefs)\n",
    "    \n",
    "    \n",
    "    \n",
    "def get_article_title(soup):\n",
    "    return soup.find(attrs={\"id\":\"firstHeading\"}).text\n",
    "    \n",
    "      \n",
    "def get_related_links(url):\n",
    "    resp = requests.get(url)\n",
    "    soup = BeautifulSoup(resp.content)\n",
    "    \n",
    "    title = get_article_title(soup)\n",
    "    \n",
    "    see_also = find_see_also(soup)\n",
    "    \n",
    "    if see_also:\n",
    "        links = find_links(see_also.find_parent())\n",
    "    else: \n",
    "        return None\n",
    "    \n",
    "    return {\n",
    "        \"title\": title,\n",
    "        \"url\": url,\n",
    "        \"related_links\": process_links(links)\n",
    "    }"
   ]
  },
  {
   "cell_type": "code",
   "execution_count": null,
   "metadata": {
    "scrolled": true
   },
   "outputs": [
    {
     "name": "stdout",
     "output_type": "stream",
     "text": [
      "1\n",
      "2\n",
      "3\n",
      "4\n",
      "5\n",
      "6\n",
      "7\n",
      "8\n",
      "9\n",
      "10\n",
      "11\n",
      "12\n",
      "13\n",
      "14\n",
      "15\n",
      "16\n",
      "17\n",
      "18\n",
      "19\n",
      "20\n",
      "21\n",
      "22\n",
      "23\n",
      "24\n",
      "25\n",
      "26\n",
      "27\n",
      "28\n",
      "29\n"
     ]
    }
   ],
   "source": [
    "def trigger_traversal(entry_url, max_trees=3):\n",
    "    \n",
    "    current_tree_count = 0\n",
    "    seen = {}\n",
    "    titles = []\n",
    "    \n",
    "    max_trees_reached = False\n",
    "    queue = []\n",
    "\n",
    "    def traverse_related_links(related_dict, max_trees_reached, current_tree_count, max_trees):\n",
    "            \n",
    "        if not related_dict:\n",
    "            seen[related_dict[\"url\"]] = True\n",
    "\n",
    "        for url in related_dict['related_links']:\n",
    "            if not url in seen:\n",
    "                if (not max_trees_reached) and url:\n",
    "                    queue.append(url)\n",
    "        \n",
    "        #         print(len(queue))\n",
    "        current_tree_count += 1\n",
    "        print(current_tree_count)\n",
    "        if current_tree_count == max_trees:\n",
    "            max_trees_reached = True\n",
    "        \n",
    "        \n",
    "        while True:\n",
    "            next_related_dict = get_related_links(queue.pop(0))\n",
    "            if next_related_dict:\n",
    "                return traverse_related_links(next_related_dict, max_trees_reached, current_tree_count, max_trees)\n",
    "            \n",
    "        \n",
    "        \n",
    "        \n",
    "        \n",
    "    entry_dict = get_related_links(entry_url)\n",
    "    \n",
    "    return traverse_related_links(entry_dict, max_trees_reached, current_tree_count, max_trees)\n",
    "\n",
    "trigger_traversal(\"https://en.wikipedia.org/wiki/Brain\", max_trees=20)"
   ]
  },
  {
   "cell_type": "code",
   "execution_count": null,
   "metadata": {},
   "outputs": [],
   "source": [
    "get_related_links(\"https://en.wikipedia.org/wiki/Brain\")"
   ]
  }
 ],
 "metadata": {
  "kernelspec": {
   "display_name": "Python 3",
   "language": "python",
   "name": "python3"
  },
  "language_info": {
   "codemirror_mode": {
    "name": "ipython",
    "version": 3
   },
   "file_extension": ".py",
   "mimetype": "text/x-python",
   "name": "python",
   "nbconvert_exporter": "python",
   "pygments_lexer": "ipython3",
   "version": "3.7.3"
  }
 },
 "nbformat": 4,
 "nbformat_minor": 2
}
