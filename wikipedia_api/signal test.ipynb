{
 "cells": [
  {
   "cell_type": "code",
   "execution_count": 12,
   "metadata": {},
   "outputs": [],
   "source": [
    "import signal, time, os\n",
    "import numpy as np"
   ]
  },
  {
   "cell_type": "code",
   "execution_count": 4,
   "metadata": {},
   "outputs": [
    {
     "name": "stdout",
     "output_type": "stream",
     "text": [
      "Signal handler called with signal 14\n"
     ]
    },
    {
     "data": {
      "text/plain": [
       "0"
      ]
     },
     "execution_count": 4,
     "metadata": {},
     "output_type": "execute_result"
    },
    {
     "name": "stdout",
     "output_type": "stream",
     "text": [
      "Signal handler called with signal 14\n"
     ]
    }
   ],
   "source": [
    "def handler(signum, frame):\n",
    "    print('Signal handler called with signal', signum)\n",
    "\n",
    "# Set the signal handler and a 5-second alarm\n",
    "signal.signal(signal.SIGALRM, handler)\n",
    "signal.alarm(3)\n",
    "\n",
    "# This open() may hang indefinitely\n",
    "time.sleep(10)\n",
    "\n",
    "signal.alarm(0)          # Disable the alarm"
   ]
  },
  {
   "cell_type": "code",
   "execution_count": 13,
   "metadata": {},
   "outputs": [
    {
     "name": "stdout",
     "output_type": "stream",
     "text": [
      "Skipping\n",
      "Skipping\n",
      "FINISHED ITERATION: 1\n",
      "FINISHED ITERATION: 1\n",
      "FINISHED ITERATION: 1\n",
      "Skipping\n",
      "Skipping\n",
      "FINISHED ITERATION: 1\n",
      "Skipping\n",
      "FINISHED ITERATION: 1\n",
      "FINISHED ITERATION: 2\n",
      "FINISHED ITERATION: 1\n",
      "FINISHED ITERATION: 2\n",
      "Skipping\n",
      "FINISHED ITERATION: 2\n",
      "Skipping\n",
      "FINISHED ITERATION: 1\n",
      "Skipping\n",
      "FINISHED ITERATION: 2\n",
      "Skipping\n",
      "FINISHED ITERATION: 1\n",
      "FINISHED ITERATION: 1\n",
      "FINISHED ITERATION: 1\n",
      "Skipping\n",
      "Skipping\n",
      "Skipping\n",
      "Skipping\n",
      "FINISHED ITERATION: 1\n",
      "FINISHED ITERATION: 2\n",
      "FINISHED ITERATION: 2\n",
      "FINISHED ITERATION: 1\n",
      "FINISHED ITERATION: 1\n",
      "FINISHED ITERATION: 1\n",
      "FINISHED ITERATION: 1\n",
      "Skipping\n",
      "FINISHED ITERATION: 2\n",
      "FINISHED ITERATION: 1\n",
      "FINISHED ITERATION: 2\n",
      "FINISHED ITERATION: 1\n",
      "FINISHED ITERATION: 2\n",
      "Skipping\n",
      "Skipping\n",
      "Skipping\n",
      "FINISHED ITERATION: 2\n",
      "FINISHED ITERATION: 2\n",
      "FINISHED ITERATION: 1\n",
      "Skipping\n",
      "Skipping\n",
      "Skipping\n",
      "Skipping\n",
      "Skipping\n",
      "FINISHED ITERATION: 2\n",
      "FINISHED ITERATION: 1\n",
      "Skipping\n",
      "Skipping\n",
      "FINISHED ITERATION: 1\n",
      "FINISHED ITERATION: 2\n",
      "FINISHED ITERATION: 1\n",
      "FINISHED ITERATION: 1\n",
      "Skipping\n",
      "Skipping\n",
      "FINISHED ITERATION: 1\n",
      "FINISHED ITERATION: 2\n",
      "Skipping\n",
      "FINISHED ITERATION: 2\n",
      "FINISHED ITERATION: 2\n",
      "FINISHED ITERATION: 2\n",
      "FINISHED ITERATION: 2\n",
      "Skipping\n",
      "FINISHED ITERATION: 1\n",
      "FINISHED ITERATION: 2\n",
      "FINISHED ITERATION: 1\n",
      "FINISHED ITERATION: 1\n",
      "FINISHED ITERATION: 1\n",
      "FINISHED ITERATION: 2\n",
      "Skipping\n",
      "Skipping\n",
      "Skipping\n",
      "FINISHED ITERATION: 1\n",
      "FINISHED ITERATION: 2\n",
      "Skipping\n",
      "Skipping\n",
      "FINISHED ITERATION: 2\n",
      "Skipping\n",
      "FINISHED ITERATION: 1\n",
      "FINISHED ITERATION: 1\n",
      "FINISHED ITERATION: 2\n",
      "FINISHED ITERATION: 1\n",
      "FINISHED ITERATION: 1\n",
      "Skipping\n",
      "Skipping\n",
      "FINISHED ITERATION: 2\n",
      "Skipping\n",
      "Skipping\n",
      "FINISHED ITERATION: 2\n",
      "FINISHED ITERATION: 2\n",
      "Skipping\n",
      "FINISHED ITERATION: 2\n",
      "FINISHED ITERATION: 1\n",
      "Skipping\n"
     ]
    }
   ],
   "source": [
    "def alarm_err():\n",
    "    raise OSError(\"Took Too Long\")\n",
    "    \n",
    "signal.signal(signal.SIGALRM, alarm_err)\n",
    "\n",
    "\n",
    "for i in np.random.randint(1, 5, 100):\n",
    "    try:\n",
    "        signal.alarm(3)\n",
    "        time.sleep(i)\n",
    "        print(\"FINISHED ITERATION:\", i)\n",
    "        signal.alarm(0)\n",
    "    except:\n",
    "        print(\"Skipping\")\n",
    "        continue"
   ]
  }
 ],
 "metadata": {
  "kernelspec": {
   "display_name": "Python 3",
   "language": "python",
   "name": "python3"
  },
  "language_info": {
   "codemirror_mode": {
    "name": "ipython",
    "version": 3
   },
   "file_extension": ".py",
   "mimetype": "text/x-python",
   "name": "python",
   "nbconvert_exporter": "python",
   "pygments_lexer": "ipython3",
   "version": "3.7.3"
  }
 },
 "nbformat": 4,
 "nbformat_minor": 2
}
