{
 "cells": [
  {
   "cell_type": "markdown",
   "metadata": {},
   "source": [
    "## Signal_analyzer"
   ]
  },
  {
   "cell_type": "markdown",
   "metadata": {},
   "source": [
    "Articles to link to:  \n",
    "\n",
    "Beats solo review:  \n",
    "https://www.innerfidelity.com/content/monster-beats-dr-dre-solo  \n",
    "https://www.innerfidelity.com/images/MonsterBeatsSolo.pdf  \n",
    "\n",
    "Mastering the Mix - EQ Cheat sheet  \n",
    "https://www.masteringthemix.com/blogs/learn/how-to-get-a-great-tonal-balance-in-your-mix"
   ]
  },
  {
   "cell_type": "markdown",
   "metadata": {},
   "source": [
    "## To Do:"
   ]
  },
  {
   "cell_type": "markdown",
   "metadata": {},
   "source": [
    "<input type=\"checkbox\"> add ability to scale y axis for graphs\n",
    "<br>\n",
    "\n",
    "<input type=\"checkbox\"> add ability to scale y axis for graphs\n",
    "<br>\n"
   ]
  },
  {
   "cell_type": "markdown",
   "metadata": {},
   "source": [
    "## Imports"
   ]
  },
  {
   "cell_type": "code",
   "execution_count": 3,
   "metadata": {},
   "outputs": [],
   "source": [
    "import librosa\n",
    "from librosa.feature import chroma_stft\n",
    "import librosa.display\n",
    "\n",
    "import soundfile as sf\n",
    "\n",
    "import numpy as np\n",
    "import pandas as pd\n",
    "\n",
    "import matplotlib.pyplot as plt\n",
    "%matplotlib inline"
   ]
  },
  {
   "cell_type": "markdown",
   "metadata": {},
   "source": [
    "## AudioAnalyzer Class"
   ]
  },
  {
   "cell_type": "code",
   "execution_count": 54,
   "metadata": {},
   "outputs": [],
   "source": [
    "class AudioAnalyzer:\n",
    "    \n",
    "    fft_size = 256 # the default fft size\n",
    "    \n",
    "    def __init__(self, filename):\n",
    "        y, sr = librosa.load(filename)\n",
    "        self.y = y\n",
    "        self.sr = sr\n",
    "        \n",
    "    def set_fft_bin_size(self, size):\n",
    "        self.fft_size = size\n",
    "        self.create_df()\n",
    "        \n",
    "    def create_df(self):\n",
    "        self.df = pd.DataFrame(librosa.feature.melspectrogram(\n",
    "                               y=self.y, sr=self.sr, \n",
    "                               n_mels=self.fft_size))\n",
    "        \n",
    "        self.average_amplitudes()\n",
    "        self.add_freq_bins()\n",
    "        return self.df\n",
    "        \n",
    "    \n",
    "    def add_freq_bins(self):\n",
    "        self.df['bins'] = np.NaN\n",
    "        for i, val in enumerate(self.df.bins):\n",
    "            self.df.bins[i] = i * self.sr / self.fft_size\n",
    "        return self.df\n",
    "    \n",
    "    def average_amplitudes(self):\n",
    "        averaged = self.df.mean(axis=1)\n",
    "        self.df = pd.DataFrame(averaged, columns=['average_amplitude'])\n",
    "        return self.df\n",
    "    \n",
    "    def plot_individual_spectrum(self, min_bin=0, max_bin=None):\n",
    "        max_bin = max_bin or self.fft_size\n",
    "        self.df.iloc[min_bin:max_bin].plot()\n",
    "        \n",
    "        "
   ]
  },
  {
   "cell_type": "markdown",
   "metadata": {},
   "source": [
    "## AudioPlotter Class"
   ]
  },
  {
   "cell_type": "code",
   "execution_count": 92,
   "metadata": {},
   "outputs": [],
   "source": [
    "class AudioPlotter:\n",
    "\n",
    "    @staticmethod\n",
    "    def get_max_average(dfs=[]):\n",
    "        max_average = 0\n",
    "        for df in dfs:\n",
    "            cur_max = df.average_amplitude.max()\n",
    "            max_average = cur_max if cur_max > max_average else max_average\n",
    "        \n",
    "        return max_average\n",
    "    \n",
    "    @staticmethod\n",
    "    def scale_amplitudes(dfs=[]):\n",
    "        max_average = AudioPlotter.get_max_average(dfs)\n",
    "    \n",
    "        scaled_dfs = []\n",
    "        for df in dfs:\n",
    "            averaged = df['average_amplitude']\n",
    "            df['scaled_amplitude'] = np.interp(averaged, (0., max_average), (0., 1.)) \n",
    "            scaled_dfs.append(df)\n",
    "            \n",
    "        return scaled_dfs\n",
    "        \n",
    "    \n",
    "    @classmethod    \n",
    "    def plot_spectrum_group(cls, dfs=[], title=\"Comparison of Frequency Amplitudes\", \n",
    "                            ylabel=\"Relative Amplitude (scaled)\", xlabel=\"Frequency (Hz)\",\n",
    "                            frange=[0,255]\n",
    "                           ):        \n",
    "        fig = plt.figure(figsize=(12,4))\n",
    "        \n",
    "        dfs = cls.scale_amplitudes(dfs)\n",
    "        \n",
    "        for frame in dfs:\n",
    "            frame = frame.iloc[frange[0]:frange[1]]\n",
    "            plt.plot(frame['bins'], frame['scaled_amplitude'])\n",
    "\n",
    "        plt.title(title)\n",
    "        plt.xlabel(xlabel)\n",
    "        plt.ylabel(ylabel) \n",
    "        \n",
    "\n"
   ]
  },
  {
   "cell_type": "code",
   "execution_count": 56,
   "metadata": {},
   "outputs": [],
   "source": [
    "original = AudioAnalyzer('ds_test_original.wav')\n",
    "modified = AudioAnalyzer('ds_test_bass_modified.wav')"
   ]
  },
  {
   "cell_type": "code",
   "execution_count": 57,
   "metadata": {},
   "outputs": [],
   "source": [
    "original.create_df()\n",
    "modified.create_df()\n",
    "pass"
   ]
  },
  {
   "cell_type": "code",
   "execution_count": 58,
   "metadata": {},
   "outputs": [],
   "source": [
    "original.set_fft_bin_size(256)\n",
    "modified.set_fft_bin_size(256)"
   ]
  },
  {
   "cell_type": "code",
   "execution_count": 93,
   "metadata": {},
   "outputs": [
    {
     "data": {
      "image/png": "[encoded data removed]",
      "text/plain": [
       "<Figure size 864x288 with 1 Axes>"
      ]
     },
     "metadata": {
      "needs_background": "light"
     },
     "output_type": "display_data"
    }
   ],
   "source": [
    "AudioPlotter.plot_spectrum_group(\n",
    "    dfs=[original.df, modified.df],\n",
    "    frange=[0,100]\n",
    ")\n",
    "\n",
    "plt.legend([\"Original\", \"Modified\", \"Ratio\"])\n",
    "plt.show()"
   ]
  },
  {
   "cell_type": "code",
   "execution_count": null,
   "metadata": {},
   "outputs": [],
   "source": []
  }
 ],
 "metadata": {
  "kernelspec": {
   "display_name": "Python 3",
   "language": "python",
   "name": "python3"
  },
  "language_info": {
   "codemirror_mode": {
    "name": "ipython",
    "version": 3
   },
   "file_extension": ".py",
   "mimetype": "text/x-python",
   "name": "python",
   "nbconvert_exporter": "python",
   "pygments_lexer": "ipython3",
   "version": "3.7.3"
  }
 },
 "nbformat": 4,
 "nbformat_minor": 2
}
